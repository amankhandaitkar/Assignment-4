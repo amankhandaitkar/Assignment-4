{
 "cells": [
  {
   "cell_type": "markdown",
   "id": "b9f2ef86",
   "metadata": {},
   "source": [
    "# 1. What exactly is []?\n",
    "\n",
    "Ans: The [] symbol represent empty list in python and other languages. List is data structure which can hold collection of items and when its empty it means there are zero item in the list."
   ]
  },
  {
   "cell_type": "markdown",
   "id": "071b7cca",
   "metadata": {},
   "source": [
    "# 2. In a list of values stored in a variable called spam, how would you assign the value &#39;hello&#39; as the third value? (Assume [2, 4, 6, 8, 10] are in spam.)\n",
    "Let&#39;s pretend the spam includes the list [&#39;a&#39;, &#39;b&#39;, &#39;c&#39;, &#39;d&#39;] for the next three queries.\n",
    "\n"
   ]
  },
  {
   "cell_type": "code",
   "execution_count": 6,
   "id": "84d660d5",
   "metadata": {},
   "outputs": [
    {
     "name": "stdout",
     "output_type": "stream",
     "text": [
      "Initial list: [2, 4, 6, 8, 10]\n",
      "Updated list: [2, 4, 'hello', 8, 10]\n"
     ]
    }
   ],
   "source": [
    "#Ans\n",
    "\n",
    "spam = [2, 4, 6, 8, 10]\n",
    "\n",
    "print(\"Initial list:\", spam)\n",
    "\n",
    "spam[2] = 'hello'\n",
    "\n",
    "print(\"Updated list:\", spam)\n"
   ]
  },
  {
   "cell_type": "markdown",
   "id": "3e5009fb",
   "metadata": {},
   "source": [
    "# 3. What is the value of spam[int(int(&#39;3&#39; * 2) / 11)]?\n",
    "\n",
    "Ans: 1).'3' * 2 evaluates to the string '33'.\n",
    "\n",
    "2).int('33') converts the string '33' into an integer, which is 33.\n",
    "\n",
    "3).int('33') / 11 performs integer division, resulting in 33 / 11 which equals 3.\n",
    "\n",
    "So, the expression spam[int(int('3' * 2) / 11)] can be simplified to spam[3]."
   ]
  },
  {
   "cell_type": "markdown",
   "id": "71ee8adc",
   "metadata": {},
   "source": [
    "# 4. What is the value of spam[-1]?\n",
    "\n",
    "Ans: The value of `spam[-1]` is the last element of the list `spam`."
   ]
  },
  {
   "cell_type": "markdown",
   "id": "d59006c8",
   "metadata": {},
   "source": [
    "# 5. What is the value of spam[:2]?\n",
    "Let&#39;s pretend bacon has the list [3.14, &#39;cat,&#39; 11, &#39;cat,&#39; True] for the next three questions.\n",
    "\n"
   ]
  },
  {
   "cell_type": "code",
   "execution_count": 3,
   "id": "d301a998",
   "metadata": {},
   "outputs": [
    {
     "name": "stdout",
     "output_type": "stream",
     "text": [
      "[3.14, 'cat']\n"
     ]
    }
   ],
   "source": [
    "#ans\n",
    "bacon = [3.14, 'cat', 11, 'cat', True]\n",
    "result = bacon[:2]\n",
    "print(result)\n"
   ]
  },
  {
   "cell_type": "markdown",
   "id": "c2577052",
   "metadata": {},
   "source": [
    "# 6. What is the value of bacon.index(&#39;cat&#39;)?\n",
    "\n",
    "Ans: The value of bacon.index('cat') is 1."
   ]
  },
  {
   "cell_type": "markdown",
   "id": "da0a8894",
   "metadata": {},
   "source": [
    "# 7. How does bacon.append(99) change the look of the list value in bacon?\n",
    "\n",
    "Ans: `bacon.append(99)` adds the integer `99` to the end of the `bacon` list, so the list will look like `[3.14, 'cat', 11, 'cat', True, 99]` after this operation."
   ]
  },
  {
   "cell_type": "markdown",
   "id": "cb959063",
   "metadata": {},
   "source": [
    "# 8. How does bacon.remove(&#39;cat&#39;) change the look of the list in bacon?\n",
    "\n",
    "Ans: The `bacon.remove('cat')` statement removes the first occurrence of the string 'cat' from the list `bacon`. If 'cat' is not in the list, it raises a `ValueError`. The list is modified in place."
   ]
  },
  {
   "cell_type": "markdown",
   "id": "325883b2",
   "metadata": {},
   "source": [
    "# 9. What are the list concatenation and list replication operators?\n",
    "\n",
    "Ans: List Concatenation Operator: `+`\n",
    "List Replication Operator: `*`"
   ]
  },
  {
   "cell_type": "markdown",
   "id": "bb707a21",
   "metadata": {},
   "source": [
    "# 10. What is difference between the list methods append() and insert()?\n",
    "\n",
    "Ans:`append()` adds an element to the end of a list, while `insert()` inserts an element at a specific index in the list."
   ]
  },
  {
   "cell_type": "markdown",
   "id": "c8a6af1a",
   "metadata": {},
   "source": [
    "# 11. What are the two methods for removing items from a list?\n",
    "\n",
    "Ans: Two methods for removing items from a list are:\n",
    "\n",
    "1. `remove(item)`: Removes the first occurrence of the specified item by value.\n",
    "2. `pop(index)`: Removes and returns the item at the specified index."
   ]
  },
  {
   "cell_type": "markdown",
   "id": "b3f46b19",
   "metadata": {},
   "source": [
    "# 12. Describe how list values and string values are identical.\n",
    "\n",
    "Ans: List and string values are both sequences of elements, and they share similarities in indexing, slicing, and iterating through their elements."
   ]
  },
  {
   "cell_type": "markdown",
   "id": "bafb51c7",
   "metadata": {},
   "source": [
    "# 13. What&#39;s the difference between tuples and lists?\n",
    "\n",
    "Ans: Lists are mutable (can be modified), while tuples are immutable (cannot be modified after creation). Lists are defined using square brackets `[]`, while tuples use parentheses `()`."
   ]
  },
  {
   "cell_type": "markdown",
   "id": "a0a77233",
   "metadata": {},
   "source": [
    "# 14. How do you type a tuple value that only contains the integer 42?\n",
    "\n",
    "Ans: To create a tuple containing the integer 42,we can simply enclose the integer in parentheses: `(42,)`."
   ]
  },
  {
   "cell_type": "markdown",
   "id": "d89643af",
   "metadata": {},
   "source": [
    "# 15. How do you get a list value&#39;s tuple form? How do you get a tuple value&#39;s list form?\n",
    "\n",
    "Ans: To convert a list to a tuple: `tuple(my_list)`\n",
    "\n",
    "To convert a tuple to a list: `list(my_tuple)`"
   ]
  },
  {
   "cell_type": "markdown",
   "id": "2698f04a",
   "metadata": {},
   "source": [
    "# 16. Variables that &quot;contain&quot; list values are not necessarily lists themselves. Instead, what do they contain?\n",
    "\n",
    "Ans: Variables that \"contain\" list values in Python actually contain references to those lists. This means that the variable holds a reference to the memory location where the list is stored, rather than directly containing the list data."
   ]
  },
  {
   "cell_type": "markdown",
   "id": "c6429944",
   "metadata": {},
   "source": [
    "# 17. How do you distinguish between copy.copy() and copy.deepcopy()? \n",
    "\n",
    "Ans: "
   ]
  },
  {
   "cell_type": "code",
   "execution_count": 2,
   "id": "7ba77f26",
   "metadata": {},
   "outputs": [
    {
     "name": "stdout",
     "output_type": "stream",
     "text": [
      "Original List: [[100, 2, 3], [4, 5, 6]]\n",
      "Shallow Copy List: [[100, 2, 3], [4, 5, 6]]\n",
      "Deep Copy List: [[1, 2, 3], [4, 5, 6]]\n"
     ]
    }
   ],
   "source": [
    "import copy\n",
    "\n",
    "# Creating a nested list\n",
    "original_list = [[1, 2, 3], [4, 5, 6]]\n",
    "\n",
    "# Shallow copy using copy.copy()\n",
    "shallow_copy_list = copy.copy(original_list)\n",
    "\n",
    "# Deep copy using copy.deepcopy()\n",
    "deep_copy_list = copy.deepcopy(original_list)\n",
    "\n",
    "# Modifying the original list\n",
    "original_list[0][0] = 100\n",
    "\n",
    "# Printing the three lists to see the differences\n",
    "print(\"Original List:\", original_list)\n",
    "print(\"Shallow Copy List:\", shallow_copy_list)\n",
    "print(\"Deep Copy List:\", deep_copy_list)\n"
   ]
  },
  {
   "cell_type": "code",
   "execution_count": null,
   "id": "6eaf1688",
   "metadata": {},
   "outputs": [],
   "source": []
  }
 ],
 "metadata": {
  "kernelspec": {
   "display_name": "Python 3 (ipykernel)",
   "language": "python",
   "name": "python3"
  },
  "language_info": {
   "codemirror_mode": {
    "name": "ipython",
    "version": 3
   },
   "file_extension": ".py",
   "mimetype": "text/x-python",
   "name": "python",
   "nbconvert_exporter": "python",
   "pygments_lexer": "ipython3",
   "version": "3.11.3"
  }
 },
 "nbformat": 4,
 "nbformat_minor": 5
}
